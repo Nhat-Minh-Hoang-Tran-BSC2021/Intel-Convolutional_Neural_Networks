{
 "cells": [
  {
   "cell_type": "code",
   "execution_count": null,
   "metadata": {},
   "outputs": [],
   "source": [
    "import cv2\n",
    "import torch\n",
    "import torchvision\n",
    "import numpy as np\n",
    "import pandas as pd\n",
    "import PIL.Image as Image\n",
    "from torchvision import transforms\n",
    "from matplotlib import pyplot as plt\n",
    "import neural_network"
   ]
  },
  {
   "cell_type": "code",
   "execution_count": null,
   "metadata": {},
   "outputs": [],
   "source": [
    "csv_path = 'control_data.csv'\n",
    "data_info = pd.read_csv(csv_path)"
   ]
  },
  {
   "cell_type": "code",
   "execution_count": null,
   "metadata": {},
   "outputs": [],
   "source": [
    "image_arr = np.asarray(data_info.iloc[:, 0])\n",
    "# Second column is the labels\n",
    "label_arr = np.asarray(data_info.iloc[:, 1])\n",
    "# Third column is for an operation indicator\n",
    "operation_arr = np.asarray(data_info.iloc[:, 2])\n",
    "# Calculate len\n",
    "data_len = len(data_info.index)"
   ]
  },
  {
   "cell_type": "code",
   "execution_count": null,
   "metadata": {},
   "outputs": [],
   "source": [
    "model = neural_network.Net()\n",
    "model = model.eval()\n",
    "model.load_state_dict(torch.load('model/autopilot.pt', map_location='cpu'))\n",
    "device = torch.device('cpu')\n",
    "model.to(device)"
   ]
  },
  {
   "cell_type": "code",
   "execution_count": null,
   "metadata": {},
   "outputs": [],
   "source": [
    "mean = 255.0 * np.array([0.485, 0.456, 0.406])\n",
    "stdev = 255.0 * np.array([0.229, 0.224, 0.225])\n",
    "normalize = torchvision.transforms.Normalize(mean, stdev)\n",
    "\n",
    "# Used for frames captured by opencv\n",
    "def preprocess(camera_value):\n",
    "    x = camera_value\n",
    "    x = cv2.resize(x, (224, 224))\n",
    "    x = cv2.cvtColor(x, cv2.COLOR_BGR2RGB)\n",
    "    x = x.transpose((2, 0, 1))\n",
    "    x = torch.from_numpy(x).float()\n",
    "    x = self.normalize(x)\n",
    "    x = x.to(self.device)\n",
    "    x = x[None, ...]\n",
    "\n",
    "    return x"
   ]
  },
  {
   "cell_type": "code",
   "execution_count": null,
   "metadata": {},
   "outputs": [],
   "source": [
    "resize = transforms.Resize(224)\n",
    "#self.center = transforms.CenterCrop(224)\n",
    "color = transforms.ColorJitter(0.1, 0.1, 0.1, 0.1)\n",
    "to_tensor = transforms.ToTensor()\n",
    "normalize = transforms.Normalize([0.485, 0.456, 0.406],\n",
    "                                 [0.229, 0.224, 0.225])\n",
    "\n",
    "# Transform image to tensor\n",
    "img = Image.open('TEST_IMAGES/0a0e8774-6d3e-11e9-a379-a6029617b541.jpg')\n",
    "img_resize = resize(img)\n",
    "img_color = color(img_resize)\n",
    "img_as_tensor = to_tensor(img_color)\n",
    "img_normalized = normalize(img_as_tensor)\n",
    "test = np.append(img_normalized,[])\n",
    "test = test.reshape(1,3,224,224)\n",
    "test = torch.from_numpy(test)\n",
    "test = test.to(device)\n",
    "test = test.float()\n",
    "with torch.no_grad():\n",
    "    output = model(test)\n",
    "    outnump = output.cpu().numpy()\n",
    "    print(outnump)"
   ]
  },
  {
   "cell_type": "code",
   "execution_count": null,
   "metadata": {},
   "outputs": [],
   "source": [
    "plt.imshow(img_normalized[0], interpolation='nearest')\n",
    "plt.show()"
   ]
  },
  {
   "cell_type": "code",
   "execution_count": null,
   "metadata": {},
   "outputs": [],
   "source": []
  }
 ],
 "metadata": {
  "kernelspec": {
   "display_name": "Python 3",
   "language": "python",
   "name": "python3"
  },
  "language_info": {
   "codemirror_mode": {
    "name": "ipython",
    "version": 3
   },
   "file_extension": ".py",
   "mimetype": "text/x-python",
   "name": "python",
   "nbconvert_exporter": "python",
   "pygments_lexer": "ipython3",
   "version": "3.6.8"
  }
 },
 "nbformat": 4,
 "nbformat_minor": 4
}
