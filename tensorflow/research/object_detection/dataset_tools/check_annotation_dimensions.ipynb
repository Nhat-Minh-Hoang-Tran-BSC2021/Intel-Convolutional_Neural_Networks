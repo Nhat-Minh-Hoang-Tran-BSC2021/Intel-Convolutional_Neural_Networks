{
 "cells": [
  {
   "cell_type": "code",
   "execution_count": null,
   "metadata": {},
   "outputs": [],
   "source": [
    "import os\n",
    "import glob\n",
    "import pandas as pd\n",
    "import tensorflow as tf\n",
    "import xml.etree.ElementTree as ET\n",
    "from PIL import Image"
   ]
  },
  {
   "cell_type": "code",
   "execution_count": null,
   "metadata": {},
   "outputs": [],
   "source": [
    "FLAGS = tf.app.flags.FLAGS\n",
    "tf.app.flags.DEFINE_string('xml_dir', 'Annotations/xmls',\n",
    "                           'Training data directory')"
   ]
  },
  {
   "cell_type": "code",
   "execution_count": null,
   "metadata": {},
   "outputs": [],
   "source": [
    "data = pd.read_csv('TownCentre-groundtruth.top', header=None)\n",
    "data"
   ]
  },
  {
   "cell_type": "code",
   "execution_count": null,
   "metadata": {},
   "outputs": [],
   "source": [
    "def get_xml_files(xml_dir):\n",
    "    \"\"\"\"Reads addresses and labels from `data_dir`.\n",
    "    The `tf.gfile.Glob` module return a list of paths matching a pathname pattern\n",
    "    \n",
    "    Args:\n",
    "        data_dir = Path to the `input image folder`.\n",
    "    \n",
    "    Returns:\n",
    "        sorted_matching_files: list, address of each picture in the train folder.\n",
    "    \"\"\"\n",
    "    cur_dir = os.getcwd()\n",
    "    new_dir = os.chdir(xml_dir)\n",
    "    \n",
    "    matching_files = glob.glob('*.xml')\n",
    "    sorted_matching_files = sorted(matching_files)\n",
    "    \n",
    "    # Go back to the original directory\n",
    "    os.chdir(cur_dir)\n",
    "    \n",
    "    return sorted_matching_files"
   ]
  },
  {
   "cell_type": "code",
   "execution_count": null,
   "metadata": {},
   "outputs": [],
   "source": [
    "def check_annotation(xml_dir, filename):\n",
    "    # Create a `ElementTree` class to extract information\n",
    "    xml_path = os.path.join(xml_dir, filename)\n",
    "    root = ET.parse(xml_path).getroot()\n",
    "    \n",
    "    # Get width and height in the annotation\n",
    "    size_attributes = root.find('size')\n",
    "    img_width = int(size_attributes.find('width').text)\n",
    "    img_height = int(size_attributes.find('height').text)\n",
    "\n",
    "    # Check bounding boxes\n",
    "    for obj in root.findall('object'):\n",
    "        ele = obj.find('bndbox')\n",
    "        if ele is None:\n",
    "            continue\n",
    "\n",
    "        xmin = int(ele.find('xmin').text)\n",
    "        ymin = int(ele.find('ymin').text)\n",
    "        xmax = int(ele.find('xmax').text)\n",
    "        ymax = int(ele.find('ymax').text)\n",
    "        \n",
    "        if xmin > img_width:\n",
    "            print(f'Dimension mismatch: {xml_path}')\n",
    "            print(f'xmin: {xmin}')\n",
    "        if xmax > img_width:\n",
    "            print(f'Dimension mismatch: {xml_path}')\n",
    "            print(f'xmax: {xmax}')\n",
    "        if ymin > img_height:\n",
    "            print(f'Dimension mismatch: {xml_path}')\n",
    "            print(f'ymin: {ymin}')\n",
    "        if ymax > img_height:\n",
    "            print(f'Dimension mismatch: {xml_path}')\n",
    "            print(f'ymax: {ymax}')"
   ]
  },
  {
   "cell_type": "code",
   "execution_count": null,
   "metadata": {},
   "outputs": [],
   "source": [
    "def main(unused_argv):\n",
    "    filenames = get_xml_files(FLAGS.xml_dir)\n",
    "    for filename in filenames:\n",
    "        check_annotation(FLAGS.xml_dir, filename)\n",
    "\n",
    "\n",
    "if __name__ == '__main__':\n",
    "    tf.app.run()"
   ]
  },
  {
   "cell_type": "code",
   "execution_count": null,
   "metadata": {},
   "outputs": [],
   "source": []
  }
 ],
 "metadata": {
  "kernelspec": {
   "display_name": "Python 3",
   "language": "python",
   "name": "python3"
  },
  "language_info": {
   "codemirror_mode": {
    "name": "ipython",
    "version": 3
   },
   "file_extension": ".py",
   "mimetype": "text/x-python",
   "name": "python",
   "nbconvert_exporter": "python",
   "pygments_lexer": "ipython3",
   "version": "3.6.8"
  }
 },
 "nbformat": 4,
 "nbformat_minor": 2
}
